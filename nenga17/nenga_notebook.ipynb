{
 "cells": [
  {
   "cell_type": "code",
   "execution_count": 1,
   "metadata": {},
   "outputs": [
    {
     "data": {
      "text/plain": [
       "[72, 97, 112, 112, 121, 32, 78, 101, 119, 32, 89, 101, 97, 114]"
      ]
     },
     "execution_count": 1,
     "metadata": {},
     "output_type": "execute_result"
    }
   ],
   "source": [
    "[ord(x) for x in \"Happy New Year\"]"
   ]
  },
  {
   "cell_type": "code",
   "execution_count": 4,
   "metadata": {},
   "outputs": [
    {
     "name": "stdout",
     "output_type": "stream",
     "text": [
      "79\n",
      "8:9*:,55*+:,53*+::,,9+,4*:::,+72*+v\n",
      "                                  :\n",
      "                                  ,\n",
      "                                  6\n",
      "                                  4\n",
      "                                  *\n",
      "                                  +\n",
      "                                  1\n",
      "                                  -\n",
      "                                  :\n",
      "                                  ,\n",
      "                                  9\n",
      "@,,+1+*44,:-4,:+*34,:+*55+:,::,+*2<\n"
     ]
    }
   ],
   "source": [
    "code = \"8:9*:,55*+:,53*+::,,9+,4*:::,+72*+:,64*+1-:,92*+,::,:+55*+:,43*+:,4-:,44*+1+,,@\"\n",
    "tate = 11\n",
    "sp1 = (len(code)-tate)//2\n",
    "s1 = code[:sp1]\n",
    "s2 = code[sp1:sp1 + tate]\n",
    "s3 = code[sp1+tate:]\n",
    "print(len(code))\n",
    "\n",
    "artifact = s1 + 'v\\n'\n",
    "for x in s2:\n",
    "    artifact += ' ' * len(s1) + x + '\\n'\n",
    "s3 = '<' + s3\n",
    "artifact += ''.join(s3[::-1])\n",
    "print(artifact)"
   ]
  },
  {
   "cell_type": "code",
   "execution_count": 5,
   "metadata": {},
   "outputs": [
    {
     "name": "stdout",
     "output_type": "stream",
     "text": [
      "                                   ,\n",
      "                                   6\n",
      "                                   4\n",
      "                                   *\n",
      "                                   +\n",
      "                                   1\n",
      "                                   -\n",
      "                                   :\n",
      "                                   ,\n",
      "                                   9\n",
      "                                   2\n",
      "                                   *\n"
     ]
    }
   ],
   "source": [
    "s1 = \"8:9*:,55*+:,53*+::,,9+,4*:::,+72*+:\"\n",
    "s2 = \",64*+1-:,92*\"\n",
    "for x in s2:\n",
    "    print(' ' * len(s1) + x)\n",
    "    \n",
    "    "
   ]
  },
  {
   "cell_type": "code",
   "execution_count": 6,
   "metadata": {},
   "outputs": [
    {
     "name": "stdout",
     "output_type": "stream",
     "text": [
      "@,,+1+*44,:-4,:+*34,:+*55+:,::,+*2<\n"
     ]
    }
   ],
   "source": [
    "print(''.join(s3[::-1]))"
   ]
  },
  {
   "cell_type": "code",
   "execution_count": 7,
   "metadata": {},
   "outputs": [
    {
     "name": "stdout",
     "output_type": "stream",
     "text": [
      "3 14 18\n",
      "0 18\n",
      "1 68\n",
      "2 218\n",
      "3 668\n",
      "4 2018\n"
     ]
    }
   ],
   "source": [
    "m, n = 2, 1\n",
    "b0 = 2\n",
    "\n",
    "for b0 in range(20):\n",
    "    for i in range(m, 15):\n",
    "        for j in range(n, 18):\n",
    "            x = b0\n",
    "            while x < 2018:\n",
    "                x = i * x + j\n",
    "    #            print(x)\n",
    "            if x == 2018:\n",
    "                print(i, j, b0)\n",
    "\n",
    "m = 3\n",
    "n = 14\n",
    "b0 = 18\n",
    "\n",
    "x = b0\n",
    "idx = 0\n",
    "while x < 3000:\n",
    "    print(idx, x)\n",
    "    x = m * x + n\n",
    "    idx += 1"
   ]
  },
  {
   "cell_type": "code",
   "execution_count": 8,
   "metadata": {},
   "outputs": [
    {
     "name": "stdout",
     "output_type": "stream",
     "text": [
      "79\n",
      "8:9*:,55*+:,53*+::,,9+,4*:::,+72*+:v\n",
      "     v* <                          ,\n",
      "     7  3                          6\n",
      "     2  \\                          4\n",
      "     *  -                          *\n",
      "     +  1                          +\n",
      ">492*>\\:|                          1\n",
      "        $                          -\n",
      "        .                          :\n",
      "        @                          ,\n",
      "^,,+1+*44,:-4,:+*34,:+*55+:,::,+*29<\n"
     ]
    }
   ],
   "source": [
    "code = \"8:9*:,55*+:,53*+::,,9+,4*:::,+72*+:,64*+1-:,92*+,::,:+55*+:,43*+:,4-:,44*+1+,,^\"\n",
    "tate = 9\n",
    "sp1 = (len(code)-tate)//2\n",
    "s1 = code[:sp1]\n",
    "s2 = code[sp1:sp1 + tate]\n",
    "s3 = code[sp1+tate:]\n",
    "print(len(code))\n",
    "\n",
    "\n",
    "seqcode =r\"\"\"     v* <\n",
    "     7  3\n",
    "     2  \\\n",
    "     *  -\n",
    "     +  1\n",
    ">492*>\\:|\n",
    "        $\n",
    "        .\n",
    "        @\"\"\"\n",
    "\n",
    "seqs = seqcode.split(\"\\n\")\n",
    "\n",
    "artifact = s1 + 'v\\n'\n",
    "for i, x in enumerate(s2):\n",
    "    if i < len(seqs):\n",
    "        artifact += seqs[i] + ' ' * (len(s1) - len(seqs[i])) + x + '\\n'\n",
    "    else:\n",
    "        artifact += ' ' * len(s1) + x + '\\n'\n",
    "        \n",
    "s3 = '<' + s3\n",
    "artifact += ''.join(s3[::-1])\n",
    "print(artifact)\n"
   ]
  },
  {
   "cell_type": "code",
   "execution_count": null,
   "metadata": {},
   "outputs": [],
   "source": []
  }
 ],
 "metadata": {
  "kernelspec": {
   "display_name": "Python 3",
   "language": "python",
   "name": "python3"
  },
  "language_info": {
   "codemirror_mode": {
    "name": "ipython",
    "version": 3
   },
   "file_extension": ".py",
   "mimetype": "text/x-python",
   "name": "python",
   "nbconvert_exporter": "python",
   "pygments_lexer": "ipython3",
   "version": "3.5.1"
  }
 },
 "nbformat": 4,
 "nbformat_minor": 2
}
